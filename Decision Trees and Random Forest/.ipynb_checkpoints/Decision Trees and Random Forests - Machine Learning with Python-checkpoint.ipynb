{
 "cells": [
  {
   "cell_type": "markdown",
   "id": "fb01da70-a8a9-426d-8e0a-cfb3b5940dcc",
   "metadata": {},
   "source": [
    "## Decision Trees and Random Forests - Machine Learning with Python"
   ]
  },
  {
   "cell_type": "code",
   "execution_count": null,
   "id": "a92449be-81e0-47b9-a083-672c8f20ace5",
   "metadata": {},
   "outputs": [],
   "source": []
  }
 ],
 "metadata": {
  "kernelspec": {
   "display_name": "Python 3 (ipykernel)",
   "language": "python",
   "name": "python3"
  },
  "language_info": {
   "codemirror_mode": {
    "name": "ipython",
    "version": 3
   },
   "file_extension": ".py",
   "mimetype": "text/x-python",
   "name": "python",
   "nbconvert_exporter": "python",
   "pygments_lexer": "ipython3",
   "version": "3.13.2"
  }
 },
 "nbformat": 4,
 "nbformat_minor": 5
}
