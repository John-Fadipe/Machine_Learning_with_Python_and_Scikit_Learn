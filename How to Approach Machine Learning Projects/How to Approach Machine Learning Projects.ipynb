{
 "cells": [
  {
   "cell_type": "markdown",
   "id": "96856f41-aba5-40f7-8663-77f60791fde7",
   "metadata": {},
   "source": [
    "step-by-step process for approaching ML problems:\n",
    "\n",
    "1. Understand the business requirements and the nature of the available data.\n",
    "2. Classify the problem as supervised/unsupervised and regression/classification.\n",
    "3. Download, clean & explore the data and create new features that may improve models.\n",
    "4. Create training/test/validation sets and prepare the data for training ML models.\n",
    "5. Create a quick & easy baseline model to evaluate and benchmark future models.\n",
    "6. Pick a modeling strategy, train a model, and tune hyperparameters to achieve optimal fit.\n",
    "7. Experiment and combine results from multiple strategies to get a better result.\n",
    "8. Interpret models, study individual predictions, and present your findings. "
   ]
  },
  {
   "cell_type": "code",
   "execution_count": 3,
   "id": "c7bbdb0d-6d7a-4d79-a3ab-cd033fe7776d",
   "metadata": {},
   "outputs": [
    {
     "name": "stdout",
     "output_type": "stream",
     "text": [
      "Note: you may need to restart the kernel to use updated packages.\n"
     ]
    }
   ],
   "source": [
    "pip install numpy sweetviz matplotlib plotly seaborn --quiet"
   ]
  },
  {
   "cell_type": "code",
   "execution_count": 6,
   "id": "0c0db6e3-7365-4827-bdcc-77446daddd9c",
   "metadata": {},
   "outputs": [
    {
     "name": "stdout",
     "output_type": "stream",
     "text": [
      "Note: you may need to restart the kernel to use updated packages.\n"
     ]
    }
   ],
   "source": [
    "pip install kaggle scikit-learn --upgrade --quiet"
   ]
  },
  {
   "cell_type": "code",
   "execution_count": 8,
   "id": "afcb4fab-cc1e-4c85-a10f-13a5b1323b0a",
   "metadata": {},
   "outputs": [],
   "source": [
    "import os\n",
    "import matplotlib\n",
    "import numpy as np\n",
    "import pandas as pd\n",
    "import matplotlib.pyplot as plt\n",
    "import seaborn as sns\n",
    "import plotly.express as px\n",
    "%matplotlib inline\n",
    "\n",
    "sns.set_style('darkgrid')\n",
    "matplotlib.rcParams['font.size'] = 14\n",
    "matplotlib.rcParams['figure.figsize'] = (10, 6)\n",
    "matplotlib.rcParams['figure.facecolor'] = '#00000000'"
   ]
  },
  {
   "cell_type": "markdown",
   "id": "88713f30-35ee-4c0a-81e8-5743b8f130b8",
   "metadata": {},
   "source": [
    "### Understanding the Big Picture\n",
    "\n",
    "The first step in any machine learning problem is to read the given documentation, talk to various stakeholders and identify the following:\n",
    "\n",
    "1. What is the business problem you're trying to solve using machine learning?\n",
    "2. Why are we interested in solving this problem? What impact will it have on the business?\n",
    "3. How is this problem solved currently, without any machine learning tools?\n",
    "4. Who will use the results of this model, and how does it fit into other business processes?\n",
    "5. How much historical data do we have, and how was it collected?\n",
    "6. What features does the historical data contain? Does it contain the historical values for what we're trying to predict.\n",
    "7. What are some known issues with the data (data entry errors, missing data, differences in units etc.)\n",
    "8. Can we look at some sample rows from the dataset? How representative are they of the entire dataset.\n",
    "9. Where is the data stored and how will you get access to it?\n",
    "10. ...\n",
    "\n",
    "\n",
    "Gather as much information about the problem as possible, so that you're clear understanding of the objective and feasibility of the project."
   ]
  },
  {
   "cell_type": "code",
   "execution_count": null,
   "id": "d36dc1c3-efdc-4a3e-8d4f-5970b7cfb238",
   "metadata": {},
   "outputs": [],
   "source": []
  }
 ],
 "metadata": {
  "kernelspec": {
   "display_name": "Python 3 (ipykernel)",
   "language": "python",
   "name": "python3"
  },
  "language_info": {
   "codemirror_mode": {
    "name": "ipython",
    "version": 3
   },
   "file_extension": ".py",
   "mimetype": "text/x-python",
   "name": "python",
   "nbconvert_exporter": "python",
   "pygments_lexer": "ipython3",
   "version": "3.13.2"
  }
 },
 "nbformat": 4,
 "nbformat_minor": 5
}
